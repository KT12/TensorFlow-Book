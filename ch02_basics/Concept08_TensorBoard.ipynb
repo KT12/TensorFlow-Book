{
 "cells": [
  {
   "cell_type": "markdown",
   "metadata": {
    "deletable": true,
    "editable": true
   },
   "source": [
    "# Ch `02`: Concept `08`"
   ]
  },
  {
   "cell_type": "markdown",
   "metadata": {
    "deletable": true,
    "editable": true
   },
   "source": [
    "## Using TensorBoard"
   ]
  },
  {
   "cell_type": "markdown",
   "metadata": {
    "deletable": true,
    "editable": true
   },
   "source": [
    "TensorBoard is a great way to visualize what's happening behind the code. \n",
    "\n",
    "In this example, we'll loop through some numbers to improve our guess of the average value. Then we can visualize the results on TensorBoard. \n",
    "\n",
    "Let's just set ourselves up with some data to work with:"
   ]
  },
  {
   "cell_type": "code",
   "execution_count": 1,
   "metadata": {
    "collapsed": false,
    "deletable": true,
    "editable": true
   },
   "outputs": [],
   "source": [
    "import tensorflow as tf\n",
    "import numpy as np\n",
    "\n",
    "raw_data = np.random.normal(10, 1, 100)"
   ]
  },
  {
   "cell_type": "markdown",
   "metadata": {
    "deletable": true,
    "editable": true
   },
   "source": [
    "The moving average is defined as follows:"
   ]
  },
  {
   "cell_type": "code",
   "execution_count": 2,
   "metadata": {
    "collapsed": true,
    "deletable": true,
    "editable": true
   },
   "outputs": [],
   "source": [
    "alpha = tf.constant(0.05)\n",
    "curr_value = tf.placeholder(tf.float32)\n",
    "prev_avg = tf.Variable(0.)\n",
    "\n",
    "update_avg = alpha * curr_value + (1 - alpha) * prev_avg"
   ]
  },
  {
   "cell_type": "markdown",
   "metadata": {
    "deletable": true,
    "editable": true
   },
   "source": [
    "Here's what we care to visualize:"
   ]
  },
  {
   "cell_type": "code",
   "execution_count": 3,
   "metadata": {
    "collapsed": false,
    "deletable": true,
    "editable": true
   },
   "outputs": [],
   "source": [
    "avg_hist = tf.summary.scalar(\"running_average\", update_avg)\n",
    "value_hist = tf.summary.scalar(\"incoming_values\", curr_value)\n",
    "\n",
    "merged = tf.summary.merge_all()\n",
    "writer = tf.summary.FileWriter(\"./logs\")"
   ]
  },
  {
   "cell_type": "markdown",
   "metadata": {
    "deletable": true,
    "editable": true
   },
   "source": [
    "Time to compute the moving averages. We'll also run the `merged` op to track how the values change:"
   ]
  },
  {
   "cell_type": "code",
   "execution_count": 4,
   "metadata": {
    "collapsed": false,
    "deletable": true,
    "editable": true
   },
   "outputs": [
    {
     "name": "stdout",
     "output_type": "stream",
     "text": [
      "10.3274462004 0.516372\n",
      "9.86267037028 0.983687\n",
      "7.97146489494 1.33308\n",
      "10.3301793047 1.78293\n",
      "8.07082845871 2.09733\n",
      "11.4126981517 2.56309\n",
      "10.5075360043 2.96032\n",
      "11.712426221 3.39792\n",
      "9.63414881932 3.70973\n",
      "12.2497321371 4.13673\n",
      "10.0694590718 4.43337\n",
      "10.1697330168 4.72019\n",
      "12.0639364444 5.08737\n",
      "11.7277379008 5.41939\n",
      "9.58803850364 5.62782\n",
      "10.3164795513 5.86226\n",
      "8.51320922922 5.9948\n",
      "12.1316989642 6.30165\n",
      "8.33956311515 6.40355\n",
      "9.99884154762 6.58331\n",
      "8.24028849945 6.66616\n",
      "10.8609624761 6.8759\n",
      "9.3893887022 7.00157\n",
      "12.3557244176 7.26928\n",
      "9.26787939682 7.36921\n",
      "9.83052410173 7.49228\n",
      "11.1465438587 7.67499\n",
      "11.1499544289 7.84874\n",
      "8.99020047371 7.90581\n",
      "11.1742342148 8.06923\n",
      "8.52268882649 8.09191\n",
      "12.0586017558 8.29024\n",
      "9.05550424187 8.3285\n",
      "10.1671401668 8.42043\n",
      "9.03518112512 8.45117\n",
      "9.46464548219 8.50185\n",
      "11.1016704763 8.63184\n",
      "10.2437254038 8.71243\n",
      "10.1705984236 8.78534\n",
      "10.3118793263 8.86166\n",
      "9.75635142686 8.9064\n",
      "10.6524667216 8.9937\n",
      "11.166747212 9.10235\n",
      "10.0067230809 9.14757\n",
      "10.7976782406 9.23008\n",
      "10.4846556821 9.29281\n",
      "9.22864420994 9.2896\n",
      "9.42170479965 9.2962\n",
      "7.86945300269 9.22486\n",
      "9.90841823725 9.25904\n",
      "11.1120299045 9.35169\n",
      "9.65008892327 9.36661\n",
      "8.84680270604 9.34062\n",
      "10.1037149206 9.37878\n",
      "9.52962279994 9.38632\n",
      "11.1754301139 9.47577\n",
      "10.4881191348 9.52639\n",
      "9.09472230519 9.50481\n",
      "8.17963073157 9.43855\n",
      "10.8702399379 9.51013\n",
      "10.8951447037 9.57938\n",
      "10.754901861 9.63816\n",
      "10.505462027 9.68152\n",
      "10.4559868415 9.72025\n",
      "9.6674889516 9.71761\n",
      "8.44446103984 9.65395\n",
      "10.0539672802 9.67395\n",
      "10.2318894268 9.70185\n",
      "11.4178410096 9.78765\n",
      "11.2818697517 9.86236\n",
      "12.509706082 9.99473\n",
      "9.43465074334 9.96672\n",
      "10.0912049424 9.97295\n",
      "10.4063097826 9.99461\n",
      "9.2989493654 9.95983\n",
      "12.3705841903 10.0804\n",
      "9.75673104959 10.0642\n",
      "8.77659406046 9.99981\n",
      "10.0823339008 10.0039\n",
      "10.513192228 10.0294\n",
      "9.28323188952 9.99209\n",
      "8.27368226638 9.90617\n",
      "9.8195870879 9.90184\n",
      "9.92029061528 9.90276\n",
      "11.4159043024 9.97842\n",
      "9.96207155805 9.9776\n",
      "8.89506375193 9.92347\n",
      "9.22496066989 9.88855\n",
      "9.94778109993 9.89151\n",
      "9.02994132719 9.84843\n",
      "10.4018003814 9.8761\n",
      "9.47462036184 9.85602\n",
      "11.0278381685 9.91461\n",
      "11.3388312337 9.98582\n",
      "10.5682047992 10.0149\n",
      "12.9039752529 10.1594\n",
      "11.0020428041 10.2015\n",
      "9.0334027936 10.1431\n",
      "9.8903820233 10.1305\n",
      "12.1010307076 10.229\n"
     ]
    }
   ],
   "source": [
    "init = tf.global_variables_initializer()\n",
    "\n",
    "with tf.Session() as sess:\n",
    "    sess.run(init)\n",
    "    for i in range(len(raw_data)):\n",
    "        summary_str, curr_avg = sess.run([merged, update_avg], feed_dict={curr_value: raw_data[i]})\n",
    "        sess.run(tf.assign(prev_avg, curr_avg))\n",
    "        print(raw_data[i], curr_avg)\n",
    "        writer.add_summary(summary_str, i)"
   ]
  },
  {
   "cell_type": "markdown",
   "metadata": {
    "deletable": true,
    "editable": true
   },
   "source": [
    "Check out the visualization by running TensorBoard from the terminal:\n",
    "\n",
    "    $ tensorboard --logdir=~/repos/tf_book/ch02_basics/logs"
   ]
  }
 ],
 "metadata": {
  "kernelspec": {
   "display_name": "Python 3",
   "language": "python",
   "name": "python3"
  },
  "language_info": {
   "codemirror_mode": {
    "name": "ipython",
    "version": 3
   },
   "file_extension": ".py",
   "mimetype": "text/x-python",
   "name": "python",
   "nbconvert_exporter": "python",
   "pygments_lexer": "ipython3",
   "version": "3.6.0"
  }
 },
 "nbformat": 4,
 "nbformat_minor": 0
}
